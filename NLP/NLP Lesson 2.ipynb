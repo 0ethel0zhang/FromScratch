{
 "cells": [
  {
   "cell_type": "markdown",
   "metadata": {},
   "source": [
    "<h1 align=\"center\">Natural Language Processing From Scratch</h1>\n",
    "<h2 align=\"center\">Bruno Gonçalves</h2>\n",
    "<h4 align=\"center\">bgoncalves@gmail.com</h4>\n",
    "<h4 align=\"center\">@bgoncalves</h4>"
   ]
  },
  {
   "cell_type": "markdown",
   "metadata": {},
   "source": [
    "# Lesson II - Topic Modeling"
   ]
  },
  {
   "cell_type": "code",
   "execution_count": 1,
   "metadata": {
    "collapsed": true
   },
   "outputs": [],
   "source": [
    "import string\n",
    "from collections import Counter\n",
    "from pprint import pprint\n",
    "import gzip\n",
    "import matplotlib.pyplot as plt \n",
    "import numpy as np\n",
    "from numpy.linalg import svd\n",
    "from numpy import diag\n",
    "from sklearn.decomposition import NMF\n",
    "\n",
    "%matplotlib inline"
   ]
  },
  {
   "cell_type": "markdown",
   "metadata": {},
   "source": [
    "# Preprocessing"
   ]
  },
  {
   "cell_type": "markdown",
   "metadata": {},
   "source": [
    "Load a standard list of stopwords from a file"
   ]
  },
  {
   "cell_type": "code",
   "execution_count": 2,
   "metadata": {
    "collapsed": true
   },
   "outputs": [],
   "source": [
    "stopwords = set([word.lower().strip() for word in open(\"data/nltk_stopwords.txt\", \"rt\").readlines()])"
   ]
  },
  {
   "cell_type": "markdown",
   "metadata": {},
   "source": [
    "Define a function to extract the words from our input file. Here we have to be (slightly) more careful than in the previous lesson since we want to keep #tags and @mentions and remove stopwords."
   ]
  },
  {
   "cell_type": "code",
   "execution_count": 3,
   "metadata": {
    "collapsed": true
   },
   "outputs": [],
   "source": [
    "def extract_words(text, stopwords):\n",
    "    temp = text.split() # Split the text on whitespace\n",
    "    text_words = []\n",
    "\n",
    "    punctuation = set(string.punctuation)\n",
    "    \n",
    "    #Keep #tags and @mentions\n",
    "    punctuation.remove(\"#\")\n",
    "    punctuation.remove(\"@\")\n",
    "    \n",
    "    for word in temp:\n",
    "        # Remove any punctuation characters present in the beginning of the word\n",
    "        while len(word) > 0 and word[0] in punctuation:\n",
    "            word = word[1:]\n",
    "\n",
    "        # Remove any punctuation characters present in the end of the word\n",
    "        while len(word) > 0 and word[-1] in punctuation:\n",
    "            word = word[:-1]\n",
    "\n",
    "        # Simple rule to eliminate (most) URLs\n",
    "        if len(word) > 0 and \"/\" not in word:\n",
    "            # If it's not a stopword\n",
    "            if word.lower() not in stopwords:\n",
    "                # Append this word into our list of words.\n",
    "                text_words.append(word.lower())\n",
    "        \n",
    "    return text_words"
   ]
  },
  {
   "cell_type": "markdown",
   "metadata": {},
   "source": [
    "Process the data from the file. File was obtained from crowdflower (https://www.crowdflower.com/data-for-everyone/) and contains a list of tweets about Apple from 2014 and some information about their sentiment. For our purposes, we only care about the text of each tweet that is located in the last column of the csv file.\n",
    "\n",
    "We treat each tweet as an individual document, and limit ourselves to only the first 100 tweets."
   ]
  },
  {
   "cell_type": "code",
   "execution_count": 4,
   "metadata": {
    "collapsed": true
   },
   "outputs": [],
   "source": [
    "tweets = []\n",
    "line_count = 0\n",
    "\n",
    "for line in open(\"data/Apple-Twitter-Sentiment-DFE.csv\", \"rt\"):\n",
    "    fields = line.strip().split(',')\n",
    "    \n",
    "    line_count += 1\n",
    "    \n",
    "    # Skip the first line of the file which contains the header\n",
    "    if line_count == 1:\n",
    "        continue\n",
    "    \n",
    "    text = \",\".join(fields[11:])\n",
    "    \n",
    "    if len(text) == 0:\n",
    "        continue\n",
    "    \n",
    "    words = extract_words(text, stopwords)\n",
    "    \n",
    "    if len(words) > 0:\n",
    "        tweets.append(words)\n",
    "        \n",
    "    if len(tweets) == 200:\n",
    "        break"
   ]
  },
  {
   "cell_type": "markdown",
   "metadata": {},
   "source": [
    "Define the function to calculate the Inverse Document Frequency for each word and the TFIDF matrix. These functions were introduced in the previous lesson."
   ]
  },
  {
   "cell_type": "code",
   "execution_count": 5,
   "metadata": {
    "collapsed": true
   },
   "outputs": [],
   "source": [
    "def inv_doc_freq(corpus_words):\n",
    "    number_docs = len(corpus_words)\n",
    "    \n",
    "    document_count = {}\n",
    "\n",
    "    for document in corpus_words:\n",
    "        word_set = set(document)\n",
    "\n",
    "        for word in word_set:\n",
    "            document_count[word] = document_count.get(word, 0) + 1\n",
    "    \n",
    "    IDF = {}\n",
    "    \n",
    "    for word in document_count:\n",
    "        IDF[word] = np.log(number_docs/document_count[word])\n",
    "        \n",
    "    \n",
    "    return IDF\n",
    "\n",
    "def tf_idf(corpus_words):\n",
    "    IDF = inv_doc_freq(corpus_words)\n",
    "    \n",
    "    TFIDF = []\n",
    "    \n",
    "    for document in corpus_words:\n",
    "        TFIDF.append(Counter(document))\n",
    "    \n",
    "    for document in TFIDF:\n",
    "        for word in document:\n",
    "            document[word] = document[word]*IDF[word]\n",
    "            \n",
    "    return TFIDF"
   ]
  },
  {
   "cell_type": "markdown",
   "metadata": {},
   "source": [
    "Get the TFIDF matrix for our corpus of tweets. We should note that while we call it a matrix, this is effectively a list of dictionaries, which we can consider to be a sparse representation of a matrix."
   ]
  },
  {
   "cell_type": "code",
   "execution_count": 6,
   "metadata": {
    "collapsed": true
   },
   "outputs": [],
   "source": [
    "TFIDF = tf_idf(tweets)"
   ]
  },
  {
   "cell_type": "markdown",
   "metadata": {},
   "source": [
    "For convenience, extract the word_dict and word_list from the TFIDF matrix."
   ]
  },
  {
   "cell_type": "code",
   "execution_count": 7,
   "metadata": {
    "collapsed": true
   },
   "outputs": [],
   "source": [
    "def build_vocabulary(TFIDF):\n",
    "    words = set()\n",
    "    \n",
    "    for document in TFIDF:\n",
    "        words |= document.keys()\n",
    "    \n",
    "    word_list = list(words)\n",
    "    word_dict = dict(zip(word_list, range(len(word_list))))\n",
    "    \n",
    "    return word_dict, word_list"
   ]
  },
  {
   "cell_type": "code",
   "execution_count": 8,
   "metadata": {
    "collapsed": true
   },
   "outputs": [],
   "source": [
    "word_dict, word_list = build_vocabulary(TFIDF)"
   ]
  },
  {
   "cell_type": "code",
   "execution_count": 9,
   "metadata": {},
   "outputs": [
    {
     "name": "stdout",
     "output_type": "stream",
     "text": [
      "We have 927 words in our vocabulary\n"
     ]
    }
   ],
   "source": [
    "vocabulary_size = len(word_dict)\n",
    "print(\"We have\", vocabulary_size, \"words in our vocabulary\")"
   ]
  },
  {
   "cell_type": "markdown",
   "metadata": {},
   "source": [
    "Now use the TFIDF matrix and our vocabulary to generate the Term Document matrix. This is just a matter of rearranging the values in our (sparse) TFIDF matrix into the full TD matrix."
   ]
  },
  {
   "cell_type": "code",
   "execution_count": 10,
   "metadata": {
    "collapsed": true
   },
   "outputs": [],
   "source": [
    "def term_document_matrix(TFIDF, word_list, word_dict):\n",
    "    vocabulary_size = len(word_dict)\n",
    "    number_documents = len(TFIDF)\n",
    "    \n",
    "    TDM = np.zeros((vocabulary_size, number_documents))\n",
    "    \n",
    "    for doc in range(number_documents):\n",
    "        document = TFIDF[doc]\n",
    "        \n",
    "        for word in document.keys():\n",
    "            pos = word_dict[word]\n",
    "            \n",
    "            TDM[pos, doc] = document[word]\n",
    "            \n",
    "    return TDM"
   ]
  },
  {
   "cell_type": "code",
   "execution_count": 11,
   "metadata": {},
   "outputs": [
    {
     "name": "stdout",
     "output_type": "stream",
     "text": [
      "Our dataset has:\n",
      "927 unique words\n",
      "200 documents\n"
     ]
    }
   ],
   "source": [
    "TDM = term_document_matrix(TFIDF, word_list, word_dict)\n",
    "print(\"Our dataset has:\\n%u unique words\\n%u documents\"%(TDM.shape))"
   ]
  },
  {
   "cell_type": "markdown",
   "metadata": {},
   "source": [
    "# Explicit Semantic Analysis"
   ]
  },
  {
   "cell_type": "markdown",
   "metadata": {},
   "source": [
    "In ESA we use the TD matrix of our corpus as a knowledge base that we can use to look up related documents. To demonstrate how this works, let's create a new document:"
   ]
  },
  {
   "cell_type": "code",
   "execution_count": 12,
   "metadata": {
    "collapsed": true
   },
   "outputs": [],
   "source": [
    "new_tweet = ['macbook', 'mini', 'rocket']"
   ]
  },
  {
   "cell_type": "markdown",
   "metadata": {},
   "source": [
    "This is not an actual sentence since, for clarity, we are not including stopwords.\n",
    "\n",
    "In the TD formulation, the values in the word (row) vector representa how much each document is \"activated\" by that specific word. Naturally, documents in which the word does not appear have weight zero. We can use these word vectors to find a vector representation of our new document where each value is our related it is to every other document in our knowledge base. You can think of this as the set of results one might obtain after a query in a search engine!\n",
    "\n",
    "The **find_related** simply calcuates the vector corresponding to the new \"document\" and returns a list of the corresponding weights sorted in decreasing order:"
   ]
  },
  {
   "cell_type": "code",
   "execution_count": 13,
   "metadata": {
    "collapsed": true
   },
   "outputs": [],
   "source": [
    "def find_related_docs(tweet, TDM):\n",
    "    new_vector = np.zeros(TDM.shape[1])\n",
    "    \n",
    "    for word in tweet:\n",
    "        pos = word_dict[word]\n",
    "        new_vector += TDM[pos, :]\n",
    "        \n",
    "    # Now the entries of new_vector tell us which documents are activated by this one.\n",
    "    # Let's extract the list of documents sorted by activation\n",
    "    doc_list = sorted(zip(range(TDM.shape[1]), new_vector), key=lambda x:x[1], reverse=True)\n",
    "    \n",
    "    return doc_list"
   ]
  },
  {
   "cell_type": "code",
   "execution_count": 14,
   "metadata": {
    "collapsed": true
   },
   "outputs": [],
   "source": [
    "related = find_related_docs(new_tweet, TDM)"
   ]
  },
  {
   "cell_type": "markdown",
   "metadata": {},
   "source": [
    "Let's take a look a the top 5 results:"
   ]
  },
  {
   "cell_type": "code",
   "execution_count": 15,
   "metadata": {},
   "outputs": [
    {
     "name": "stdout",
     "output_type": "stream",
     "text": [
      "17 jh hines staff newly issued @apple #connected macbook ipad mini #txed\n",
      "34 rt @tra_hall jh hines staff newly issued @apple #connected macbook ipad mini #txed #txed\n",
      "2 #aapl:5 rocket stocks buy december gains apple\n",
      "166 ipad mini unboxing via @youtube @apple #ipadmini #ipad #macbook #macbookpro #startup #hipster #unboxing\n",
      "167 ipad mini first time startup via @youtube @apple #ipadmini #ipad #macbook #macbookpro #startup #hipster #unbox\n"
     ]
    }
   ],
   "source": [
    "for tweet, score in related[:5]:\n",
    "    print(tweet, \" \".join(tweets[tweet]))"
   ]
  },
  {
   "cell_type": "markdown",
   "metadata": {},
   "source": [
    "With such small documents, the results are easy to interpret. The first two result are due to mentions of **macbook** and **mini**, the third due to the presence of the word **rocket** but the remaining two results don't include any words in common with our original tweet, just words that appear in similar contexts."
   ]
  },
  {
   "cell_type": "code",
   "execution_count": 16,
   "metadata": {
    "collapsed": true
   },
   "outputs": [],
   "source": [
    "def similarity(vec1, vec2):\n",
    "    sim = np.dot(vec1, vec2)\n",
    "    norm1 = np.sqrt(np.dot(vec1, vec1))\n",
    "    norm2 = np.sqrt(np.dot(vec2, vec2))\n",
    "    \n",
    "    return sim/(norm1*norm2)"
   ]
  },
  {
   "cell_type": "code",
   "execution_count": 17,
   "metadata": {
    "collapsed": true
   },
   "outputs": [],
   "source": [
    "def find_similar_words(tweet, TDM):\n",
    "    new_vector = np.zeros(TDM.shape[1])\n",
    "    \n",
    "    for word in tweet:\n",
    "        pos = word_dict[word]\n",
    "        new_vector += TDM[pos, :]\n",
    "    \n",
    "    sim = [similarity(new_vector, TDM[i, :]) for i in range(TDM.shape[0])]\n",
    "    \n",
    "    sim_words = sorted(zip(range(TDM.shape[0]), sim), key=lambda x:x[1], reverse=True)\n",
    "    \n",
    "    return sim_words"
   ]
  },
  {
   "cell_type": "code",
   "execution_count": 18,
   "metadata": {
    "collapsed": true
   },
   "outputs": [],
   "source": [
    "similar = find_similar_words(new_tweet, TDM)"
   ]
  },
  {
   "cell_type": "code",
   "execution_count": 19,
   "metadata": {},
   "outputs": [
    {
     "name": "stdout",
     "output_type": "stream",
     "text": [
      "macbook 0.7640071602554539\n",
      "mini 0.7398422630773179\n",
      "ipad 0.6849608378181927\n",
      "#macbook 0.66219576837537\n",
      "#startup 0.6273056189756162\n"
     ]
    }
   ],
   "source": [
    "for word, score in similar[:5]:\n",
    "    print(word_list[word], score)"
   ]
  },
  {
   "cell_type": "markdown",
   "metadata": {},
   "source": [
    "This approach also returns words that are not included in the document but that are used in a similar context, such as #hipster. One might use this extra words (above some finetuned threshold of similarity) to expand our query and retrieve furhter related documents."
   ]
  },
  {
   "cell_type": "markdown",
   "metadata": {},
   "source": [
    "# Document clustering"
   ]
  },
  {
   "cell_type": "code",
   "execution_count": 20,
   "metadata": {
    "collapsed": true
   },
   "outputs": [],
   "source": [
    "#doc_similarity = squareform(pdist(TDM.T, lambda a, b:similarity(a, b)))"
   ]
  },
  {
   "cell_type": "code",
   "execution_count": 21,
   "metadata": {
    "collapsed": true
   },
   "outputs": [],
   "source": [
    "#doc_similarity.shape"
   ]
  },
  {
   "cell_type": "code",
   "execution_count": 22,
   "metadata": {
    "collapsed": true
   },
   "outputs": [],
   "source": [
    "#temp = [similarity(TDM[:, 1], TDM[:,i]) for i in range(TDM.shape[1])]"
   ]
  },
  {
   "cell_type": "markdown",
   "metadata": {},
   "source": [
    "# Latent Semantic Analysis"
   ]
  },
  {
   "cell_type": "markdown",
   "metadata": {},
   "source": [
    "LSA analysis, sometimes refered to as Latent Semantic Indexing, relies on the well known Singular Value Decomposition. Singular Values (and Singular Vectors) can be thought of as being a generalization of the more common eigenvalues (and eigenvectors) for the case of non-square matrices. \n",
    "\n",
    "The first step in any LSA analysis is to apply SVD to the Term-Document matrix:"
   ]
  },
  {
   "cell_type": "code",
   "execution_count": 23,
   "metadata": {
    "collapsed": true
   },
   "outputs": [],
   "source": [
    "u, sigma, vt = svd(TDM)"
   ]
  },
  {
   "cell_type": "markdown",
   "metadata": {},
   "source": [
    "The resulting matrices have the expected shapes, except the singular value matrix, **sigma** that is simply a vector. This is an optimization of the numpy function meant to save memory."
   ]
  },
  {
   "cell_type": "code",
   "execution_count": 24,
   "metadata": {},
   "outputs": [
    {
     "name": "stdout",
     "output_type": "stream",
     "text": [
      "(927, 927) (200,) (200, 200)\n"
     ]
    }
   ],
   "source": [
    "m, n = TDM.shape\n",
    "print(u.shape, sigma.shape, vt.shape)"
   ]
  },
  {
   "cell_type": "markdown",
   "metadata": {},
   "source": [
    "We can now reduce the internal dimention of these matrices to, say, 50. "
   ]
  },
  {
   "cell_type": "code",
   "execution_count": 25,
   "metadata": {
    "collapsed": true
   },
   "outputs": [],
   "source": [
    "k = 10\n",
    "\n",
    "# Convert the vector of singular values into a diagonal matrix\n",
    "sigma_k = sigma[:k]\n",
    "Sk = diag(sigma_k)\n",
    "\n",
    "# Drop the extraneous dimensions in the other two matrices.\n",
    "uk = u[:,:k]\n",
    "vtk = vt[:k, :]"
   ]
  },
  {
   "cell_type": "markdown",
   "metadata": {},
   "source": [
    "In this way, we preserve the most significant (higher sigma values) latent dimensions of the dataset while discarding the rest. The idea is simple, SVD projects the original dataset into an internal space which is a linear combination of the original one. Each dimension in this space can be thought of as an underlying topic in the data. By preserving only the most dominant topics in effect we are simplifying the data and, potentially, removing noise. "
   ]
  },
  {
   "cell_type": "code",
   "execution_count": 26,
   "metadata": {},
   "outputs": [
    {
     "name": "stdout",
     "output_type": "stream",
     "text": [
      "(927, 10) (10, 10) (10, 200)\n"
     ]
    }
   ],
   "source": [
    "print(uk.shape, Sk.shape, vtk.shape)"
   ]
  },
  {
   "cell_type": "markdown",
   "metadata": {},
   "source": [
    "There are no easy ways to determine the number of topics to choose, but a good rule of thumb is to identify kinks in the values of sigma"
   ]
  },
  {
   "cell_type": "code",
   "execution_count": 27,
   "metadata": {},
   "outputs": [
    {
     "data": {
      "text/plain": [
       "[<matplotlib.lines.Line2D at 0x116d0a748>]"
      ]
     },
     "execution_count": 27,
     "metadata": {},
     "output_type": "execute_result"
    },
    {
     "data": {
      "image/png": "[encoded data removed]",
      "text/plain": [
       "<Figure size 432x288 with 1 Axes>"
      ]
     },
     "metadata": {},
     "output_type": "display_data"
    }
   ],
   "source": [
    "plt.plot(sigma)"
   ]
  },
  {
   "cell_type": "markdown",
   "metadata": {},
   "source": [
    "We can also explore the way in which the topics are defined by considering the words for which they have stronger weights:"
   ]
  },
  {
   "cell_type": "code",
   "execution_count": 28,
   "metadata": {
    "collapsed": true
   },
   "outputs": [],
   "source": [
    "# Sort the list of words by the weight they have in a specific topic\n",
    "def top_words(vector, word_list):\n",
    "    doc_list = sorted(zip(word_list, vector), key=lambda x:x[1], reverse=True)\n",
    "    \n",
    "    return doc_list"
   ]
  },
  {
   "cell_type": "markdown",
   "metadata": {},
   "source": [
    "For example, for topic 3, we have strong mentions of AIDS day and the Produc (RED) iPhone launch:"
   ]
  },
  {
   "cell_type": "code",
   "execution_count": 29,
   "metadata": {},
   "outputs": [
    {
     "name": "stdout",
     "output_type": "stream",
     "text": [
      "day 0.287464880143302\n",
      "aids 0.2826216409753886\n",
      "world 0.2692253682039413\n",
      "red 0.26475561492615735\n",
      "logo 0.22903406070460497\n",
      "#apple 0.18504347302677887\n",
      "apple 0.1386822390660414\n",
      "dec 0.12638896410764291\n",
      "launches 0.12638896410764291\n",
      "abl 0.12638896410764283\n"
     ]
    }
   ],
   "source": [
    "topic_words = top_words(uk[:,3], word_list)\n",
    "for word, weight in topic_words[:10]:\n",
    "    print(word, weight)"
   ]
  },
  {
   "cell_type": "markdown",
   "metadata": {},
   "source": [
    "On the other hand, if we were trying to map a specific sentence or document into the most relevant topic we would simply have to project it into the singular space. First we define the vector in the \"regular\" word space:"
   ]
  },
  {
   "cell_type": "code",
   "execution_count": 30,
   "metadata": {
    "collapsed": true
   },
   "outputs": [],
   "source": [
    "document = ['ipad', 'mini', 'price']\n",
    "\n",
    "doc_vector = np.zeros(vocabulary_size)\n",
    "for word in document:\n",
    "    doc_vector[word_dict[word]] += 1"
   ]
  },
  {
   "cell_type": "markdown",
   "metadata": {},
   "source": [
    "and now we project it into the singular space:"
   ]
  },
  {
   "cell_type": "code",
   "execution_count": 31,
   "metadata": {},
   "outputs": [
    {
     "name": "stdout",
     "output_type": "stream",
     "text": [
      "array([ 1.62243400e-04,  1.44900491e-02, -1.09973213e-03,  4.30257980e-05,\n",
      "       -9.69106965e-04,  4.54646796e-03, -7.58613138e-04,  2.40772326e-03,\n",
      "       -3.82599561e-03,  1.95924079e-03])\n"
     ]
    }
   ],
   "source": [
    "doc_singular = 1/sigma_k*np.dot(uk.T, doc_vector)\n",
    "pprint(doc_singular)"
   ]
  },
  {
   "cell_type": "markdown",
   "metadata": {},
   "source": [
    "From where we see that hte most relevant topic is topic number 1:"
   ]
  },
  {
   "cell_type": "code",
   "execution_count": 32,
   "metadata": {},
   "outputs": [
    {
     "name": "stdout",
     "output_type": "stream",
     "text": [
      "#macbook 0.30723559382139026\n",
      "#startup 0.3054014569972669\n",
      "#hipster 0.3054014569972669\n",
      "@youtube 0.3054014569972669\n",
      "#macbookpro 0.2980960628908028\n",
      "via 0.29187957210987775\n",
      "mini 0.20949666233803632\n",
      "ipad 0.2038176600121252\n",
      "#ipadmini 0.1989102566432171\n",
      "startup 0.19327488007614935\n"
     ]
    }
   ],
   "source": [
    "topic = np.argmax(doc_singular)\n",
    "\n",
    "topic_words = top_words(uk[:,topic], word_list)\n",
    "for word, weight in topic_words[:10]:\n",
    "    print(word, weight)"
   ]
  },
  {
   "cell_type": "markdown",
   "metadata": {},
   "source": [
    "Which indeed seems relevant."
   ]
  },
  {
   "cell_type": "markdown",
   "metadata": {},
   "source": [
    "# Non-Negative Matrix Factorization"
   ]
  },
  {
   "cell_type": "markdown",
   "metadata": {},
   "source": [
    "The idea behind applying NMF to a Term-Document Matrix is similar to the goals behind using SVD to perform Latent Semantic Analysis. NMF is a general matrix factorization algorithm and, as such, the factor matrices it finds can also be thought of as internal or latent dimensions. \n",
    "\n",
    "Similarly to the case of SVD, we can perform a partial reconstruction of the original matrix by reducing the internal dimensions. Naturally, as the number of latent dimensions increases, the reconstruction error decreases since we are removing less and less information:"
   ]
  },
  {
   "cell_type": "code",
   "execution_count": 33,
   "metadata": {},
   "outputs": [
    {
     "data": {
      "text/plain": [
       "Text(0.5,1,'Non-Negative Matrix Factorization')"
      ]
     },
     "execution_count": 33,
     "metadata": {},
     "output_type": "execute_result"
    },
    {
     "data": {
      "image/png": "[encoded data removed]",
      "text/plain": [
       "<Figure size 432x288 with 1 Axes>"
      ]
     },
     "metadata": {},
     "output_type": "display_data"
    }
   ],
   "source": [
    "error = []\n",
    "\n",
    "for comps in range(2, 153, 10):\n",
    "    nmf = NMF(n_components=comps, init='random')\n",
    "    nmf.fit(TDM)\n",
    "    error.append(nmf.reconstruction_err_)\n",
    "    \n",
    "plt.plot(range(2, 153, 10), error)\n",
    "plt.xlabel('number of components')\n",
    "plt.ylabel('reconstruction error')\n",
    "plt.title('Non-Negative Matrix Factorization')"
   ]
  },
  {
   "cell_type": "markdown",
   "metadata": {},
   "source": [
    "For the remainder of this section, lets fix the number of components to 50 so that we can use these results to illustrate the power of NMF."
   ]
  },
  {
   "cell_type": "code",
   "execution_count": 34,
   "metadata": {
    "collapsed": true
   },
   "outputs": [],
   "source": [
    "nmf = NMF(n_components=50, init='random')\n",
    "W = nmf.fit_transform(TDM)\n",
    "H = nmf.components_"
   ]
  },
  {
   "cell_type": "markdown",
   "metadata": {},
   "source": [
    "When we apply NMF to a Term-Document matrix, as defined above, the resulting factors prove useful for topic detection. In particular, the W matrix provides us with the definition of each topic as a weighted distribution over all the words in the corpus:"
   ]
  },
  {
   "cell_type": "markdown",
   "metadata": {},
   "source": [
    "Let's look at a couple of examples:"
   ]
  },
  {
   "cell_type": "code",
   "execution_count": 35,
   "metadata": {
    "scrolled": true
   },
   "outputs": [
    {
     "name": "stdout",
     "output_type": "stream",
     "text": [
      "version 22.362151786080535\n",
      "@disney 11.181075893040267\n",
      "#stupid 11.181075893040267\n",
      "@itunesmovies 11.181075893040267\n",
      "wars 11.181075893040267\n",
      "#lame 11.181075893040267\n",
      "#starwars 11.181075893040267\n",
      "alone 11.181075893040267\n",
      "actually 11.181075893040267\n",
      "star 11.181075893040267\n"
     ]
    }
   ],
   "source": [
    "topic_words = top_words(W[:,0], word_list)\n",
    "for word, weight in topic_words[:10]:\n",
    "    print(word, weight)"
   ]
  },
  {
   "cell_type": "code",
   "execution_count": 36,
   "metadata": {},
   "outputs": [
    {
     "name": "stdout",
     "output_type": "stream",
     "text": [
      "contacts 6.747643691962807\n",
      "#thanks 3.3738218459814036\n",
      "humanity 3.3738218459814036\n",
      "@facebook 3.3738218459814036\n",
      "#facebook 3.3738218459814036\n",
      "added 3.3738218459814036\n",
      "speak 3.3738218459814036\n",
      "chose 3.3738218459814036\n",
      "book 2.931826599221545\n",
      "want 2.817989751833538\n"
     ]
    }
   ],
   "source": [
    "topic_words = top_words(W[:,10], word_list)\n",
    "for word, weight in topic_words[:10]:\n",
    "    print(word, weight)"
   ]
  }
 ],
 "metadata": {
  "anaconda-cloud": {},
  "kernelspec": {
   "display_name": "Python [conda env:py35]",
   "language": "python",
   "name": "conda-env-py35-py"
  },
  "language_info": {
   "codemirror_mode": {
    "name": "ipython",
    "version": 3
   },
   "file_extension": ".py",
   "mimetype": "text/x-python",
   "name": "python",
   "nbconvert_exporter": "python",
   "pygments_lexer": "ipython3",
   "version": "3.5.2"
  }
 },
 "nbformat": 4,
 "nbformat_minor": 2
}
